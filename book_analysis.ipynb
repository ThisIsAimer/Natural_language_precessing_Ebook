{
 "cells": [
  {
   "cell_type": "markdown",
   "id": "08f76457-1e13-4956-bba9-4faf644af451",
   "metadata": {},
   "source": [
    "# Load the book"
   ]
  },
  {
   "cell_type": "code",
   "execution_count": 1,
   "id": "75b13a8b-481e-4640-9d1f-6230ad4e38ff",
   "metadata": {},
   "outputs": [],
   "source": [
    "with open(\"miracle_in_the_andes.txt\", \"r\",encoding='UTF-8') as file:\n",
    "    book = file.read()"
   ]
  },
  {
   "cell_type": "code",
   "execution_count": 2,
   "id": "7754be72-4c76-4fbc-a9c7-141bd6a4bb13",
   "metadata": {},
   "outputs": [
    {
     "data": {
      "text/plain": [
       "str"
      ]
     },
     "execution_count": 2,
     "metadata": {},
     "output_type": "execute_result"
    }
   ],
   "source": [
    "type(book)"
   ]
  },
  {
   "cell_type": "markdown",
   "id": "5a61b698-2b2f-47dd-8904-f3b0711af797",
   "metadata": {},
   "source": [
    "## how many chapters?"
   ]
  },
  {
   "cell_type": "markdown",
   "id": "d173bb11-f461-47e0-bb91-efd2a68003cc",
   "metadata": {},
   "source": [
    "### With string manipulation"
   ]
  },
  {
   "cell_type": "code",
   "execution_count": 3,
   "id": "2614a299-8a20-4eef-a530-f1b8b97d5c34",
   "metadata": {},
   "outputs": [
    {
     "data": {
      "text/plain": [
       "11"
      ]
     },
     "execution_count": 3,
     "metadata": {},
     "output_type": "execute_result"
    }
   ],
   "source": [
    "book.count(\"Chapter\")"
   ]
  },
  {
   "cell_type": "markdown",
   "id": "025f23e1-6dc7-46a1-a3e2-d414502556ca",
   "metadata": {},
   "source": [
    "### With regex"
   ]
  },
  {
   "cell_type": "code",
   "execution_count": 4,
   "id": "528a6efe-4085-4a32-8d11-3f07a8708d4a",
   "metadata": {},
   "outputs": [],
   "source": [
    "import re"
   ]
  },
  {
   "cell_type": "code",
   "execution_count": 5,
   "id": "b3050405-09e4-486b-b8ac-77819af4d784",
   "metadata": {},
   "outputs": [
    {
     "data": {
      "text/plain": [
       "['Chapter 1',\n",
       " 'Chapter 2',\n",
       " 'Chapter 3',\n",
       " 'Chapter 4',\n",
       " 'Chapter 5',\n",
       " 'Chapter 6',\n",
       " 'Chapter 7',\n",
       " 'Chapter 8',\n",
       " 'Chapter 9',\n",
       " 'Chapter 10']"
      ]
     },
     "execution_count": 5,
     "metadata": {},
     "output_type": "execute_result"
    }
   ],
   "source": [
    "pattern = re.compile(\"Chapter [0-9]+\")\n",
    "findings = re.findall(pattern,book)\n",
    "re.findall(pattern,book)"
   ]
  },
  {
   "cell_type": "code",
   "execution_count": 6,
   "id": "b712c0f3-e998-4d1f-9388-e52e5bf53914",
   "metadata": {},
   "outputs": [
    {
     "data": {
      "text/plain": [
       "10"
      ]
     },
     "execution_count": 6,
     "metadata": {},
     "output_type": "execute_result"
    }
   ],
   "source": [
    "len(findings)"
   ]
  },
  {
   "cell_type": "markdown",
   "id": "9b928882-f0f5-471c-b17c-5b13602df98b",
   "metadata": {},
   "source": [
    "# Sentances where love was used"
   ]
  },
  {
   "cell_type": "code",
   "execution_count": 33,
   "id": "af0ab721-759a-4b9e-a939-f081196a433a",
   "metadata": {},
   "outputs": [
    {
     "data": {
      "text/plain": [
       "['As a young man, of course, I could not put these things into words, but I knew, and my teammates knew, that there was something special about the game, and under the guidance of the Christian Brothers we developed a passionate love for the sport that shaped our friendships and our lives.',\n",
       " 'Guido and I grew up together, playing soccer and sharing a love of motorcycles, cars, and auto racing.',\n",
       " 'Under the guidance of the Christian Brothers, both of us grew to love the game of rugby with a consuming passion.',\n",
       " 'That rowdiness came to an abrupt end for Guido in 1969, when he met and fell in love with the beautiful daughter of a Chilean diplomat.',\n",
       " 'I believe he had a great hunger for the love and comforts of a family that was happy and whole.']"
      ]
     },
     "execution_count": 33,
     "metadata": {},
     "output_type": "execute_result"
    }
   ],
   "source": [
    "pattern = re.compile(\"[A-Z]{1}[^.]*[^a-zA-Z]+love[^a-zA-Z]+[^.]*.\")\n",
    "# {1} is exactly one time, * is 0 or more times, + is 1 or more times\n",
    "findings = re.findall(pattern,book)\n",
    "findings[:5]"
   ]
  },
  {
   "cell_type": "markdown",
   "id": "847678ce-d84a-4ee5-b4fe-bac1b1af7d97",
   "metadata": {},
   "source": [
    "## Finding the most used word"
   ]
  },
  {
   "cell_type": "code",
   "execution_count": 21,
   "id": "fbbefe99-5080-44b3-88c1-bb96db66508d",
   "metadata": {},
   "outputs": [
    {
     "data": {
      "text/plain": [
       "['chapter', 'before', 'it', 'was', 'friday']"
      ]
     },
     "execution_count": 21,
     "metadata": {},
     "output_type": "execute_result"
    }
   ],
   "source": [
    "pattern = re.compile(\"[a-zA-Z]+\")\n",
    "findings = re.findall(pattern,book.lower())\n",
    "findings[:5]"
   ]
  },
  {
   "cell_type": "code",
   "execution_count": 31,
   "id": "7f72ff86-f055-45d4-968c-a76e588de2c9",
   "metadata": {},
   "outputs": [
    {
     "data": {
      "text/plain": [
       "156"
      ]
     },
     "execution_count": 31,
     "metadata": {},
     "output_type": "execute_result"
    }
   ],
   "source": [
    "d = {}\n",
    "for word in findings:\n",
    "    if word in d.keys():\n",
    "        d[word] = d[word]+1\n",
    "    else:\n",
    "        d[word] = 1\n",
    "d[\"how\"]"
   ]
  },
  {
   "cell_type": "code",
   "execution_count": 32,
   "id": "2eb3a9ec-3f7d-49bb-8af2-68072127c315",
   "metadata": {},
   "outputs": [
    {
     "data": {
      "text/plain": [
       "[(5346, 'the'), (2795, 'and'), (2729, 'i'), (2400, 'to'), (2060, 'of')]"
      ]
     },
     "execution_count": 32,
     "metadata": {},
     "output_type": "execute_result"
    }
   ],
   "source": [
    "list_of_d = [(value,key) for (key , value) in d.items()]\n",
    "sorted(list_of_d, reverse=True)[:5]"
   ]
  }
 ],
 "metadata": {
  "kernelspec": {
   "display_name": "Python 3 (ipykernel)",
   "language": "python",
   "name": "python3"
  },
  "language_info": {
   "codemirror_mode": {
    "name": "ipython",
    "version": 3
   },
   "file_extension": ".py",
   "mimetype": "text/x-python",
   "name": "python",
   "nbconvert_exporter": "python",
   "pygments_lexer": "ipython3",
   "version": "3.13.1"
  }
 },
 "nbformat": 4,
 "nbformat_minor": 5
}
