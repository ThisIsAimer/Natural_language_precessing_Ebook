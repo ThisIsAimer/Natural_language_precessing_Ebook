{
 "cells": [
  {
   "cell_type": "markdown",
   "id": "08f76457-1e13-4956-bba9-4faf644af451",
   "metadata": {},
   "source": [
    "# Load the book"
   ]
  },
  {
   "cell_type": "code",
   "execution_count": 7,
   "id": "75b13a8b-481e-4640-9d1f-6230ad4e38ff",
   "metadata": {},
   "outputs": [],
   "source": [
    "with open(\"miracle_in_the_andes.txt\", \"r\",encoding='UTF-8') as file:\n",
    "    book = file.read()"
   ]
  },
  {
   "cell_type": "code",
   "execution_count": 9,
   "id": "7754be72-4c76-4fbc-a9c7-141bd6a4bb13",
   "metadata": {},
   "outputs": [
    {
     "data": {
      "text/plain": [
       "str"
      ]
     },
     "execution_count": 9,
     "metadata": {},
     "output_type": "execute_result"
    }
   ],
   "source": [
    "type(book)"
   ]
  },
  {
   "cell_type": "markdown",
   "id": "5a61b698-2b2f-47dd-8904-f3b0711af797",
   "metadata": {},
   "source": [
    "## how many chapters?"
   ]
  },
  {
   "cell_type": "markdown",
   "id": "d173bb11-f461-47e0-bb91-efd2a68003cc",
   "metadata": {},
   "source": [
    "### With string manipulation"
   ]
  },
  {
   "cell_type": "code",
   "execution_count": 13,
   "id": "2614a299-8a20-4eef-a530-f1b8b97d5c34",
   "metadata": {},
   "outputs": [
    {
     "data": {
      "text/plain": [
       "11"
      ]
     },
     "execution_count": 13,
     "metadata": {},
     "output_type": "execute_result"
    }
   ],
   "source": [
    "book.count(\"Chapter\")"
   ]
  },
  {
   "cell_type": "markdown",
   "id": "025f23e1-6dc7-46a1-a3e2-d414502556ca",
   "metadata": {},
   "source": [
    "### With regex"
   ]
  },
  {
   "cell_type": "code",
   "execution_count": 14,
   "id": "528a6efe-4085-4a32-8d11-3f07a8708d4a",
   "metadata": {},
   "outputs": [],
   "source": [
    "import re"
   ]
  },
  {
   "cell_type": "code",
   "execution_count": 22,
   "id": "b3050405-09e4-486b-b8ac-77819af4d784",
   "metadata": {},
   "outputs": [
    {
     "data": {
      "text/plain": [
       "['Chapter 1',\n",
       " 'Chapter 2',\n",
       " 'Chapter 3',\n",
       " 'Chapter 4',\n",
       " 'Chapter 5',\n",
       " 'Chapter 6',\n",
       " 'Chapter 7',\n",
       " 'Chapter 8',\n",
       " 'Chapter 9',\n",
       " 'Chapter 10']"
      ]
     },
     "execution_count": 22,
     "metadata": {},
     "output_type": "execute_result"
    }
   ],
   "source": [
    "pattern = re.compile(\"Chapter [0-9]+\")\n",
    "findings = re.findall(pattern,book)\n",
    "re.findall(pattern,book)"
   ]
  },
  {
   "cell_type": "code",
   "execution_count": 23,
   "id": "b712c0f3-e998-4d1f-9388-e52e5bf53914",
   "metadata": {},
   "outputs": [
    {
     "data": {
      "text/plain": [
       "10"
      ]
     },
     "execution_count": 23,
     "metadata": {},
     "output_type": "execute_result"
    }
   ],
   "source": [
    "len(findings)"
   ]
  },
  {
   "cell_type": "code",
   "execution_count": null,
   "id": "388dc482-d3ed-4782-be2e-9ff47a74b4bf",
   "metadata": {},
   "outputs": [],
   "source": []
  }
 ],
 "metadata": {
  "kernelspec": {
   "display_name": "Python 3 (ipykernel)",
   "language": "python",
   "name": "python3"
  },
  "language_info": {
   "codemirror_mode": {
    "name": "ipython",
    "version": 3
   },
   "file_extension": ".py",
   "mimetype": "text/x-python",
   "name": "python",
   "nbconvert_exporter": "python",
   "pygments_lexer": "ipython3",
   "version": "3.13.1"
  }
 },
 "nbformat": 4,
 "nbformat_minor": 5
}
